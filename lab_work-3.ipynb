{
 "cells": [
  {
   "cell_type": "markdown",
   "id": "188fc245",
   "metadata": {},
   "source": [
    "**Лабораторная работа 3**\n",
    "\n",
    "</br>Дисциплина Программирование и основы алгоритмизации на Python\n",
    "\n",
    "</br>Тема 4. Функции и области видимости\n",
    "\n",
    "</br>Цель задания Научиться применять рекурсию и функции в Python\n",
    "\n",
    "</br>Инструменты для выполнения ДЗ  Jupyter Notebook или Google Colab"
   ]
  },
  {
   "cell_type": "markdown",
   "id": "919f27fc",
   "metadata": {},
   "source": [
    "*Описание задания*\n",
    " \n",
    "</br>Предположим, у вас есть шоколадная плитка размером n × m, где n и m — целые числа (например, 3 × 5). Ваша цель — разломать шоколадку на отдельные квадратики размером 1 × 1. Вы можете ломать шоколадку только прямыми линиями вдоль линий сетки (параллельно сторонам).\n",
    "\n",
    "</br>Задание\n",
    "</br>Написать программу на Python, которая определит минимальное количество разломов, необходимых для разбивания шоколадки на отдельные квадратики 1 х 1. \n",
    " \n",
    "</br>Пример\n",
    "</br>Для шоколадки размером 2 × 2 минимальное количество разломов равно 3 (либо 2 горизонтальных и 1 вертикальный, либо 2 вертикальных и 1 горизонтальный).\n",
    " \n",
    "</br>Подсказки\n",
    "\n",
    "</br>Если n == 1 и m == 1, то разломов не требуется, поскольку уже имеем квадратик 1 × 1.\n",
    "</br>Если одна из сторон равна 1, то количество разломов равно длине другой стороны минус один (так как каждый разлом уменьшает одну сторону до единицы).\n",
    "</br>В общем случае вы должны выбрать, где разломать пополам: либо по вертикали, либо по горизонтали — и использовать рекурсию для обеих частей.\n",
    "</br>Дополнительное задание (необязательное для выполнения): оптимизировать функцию, используя мемоизацию (кеширование результатов промежуточных вычислений) для уменьшения количества вызовов функции.\n",
    "\n",
    "</br>Выполненное задание разместите на GitHub или аналогах."
   ]
  },
  {
   "cell_type": "code",
   "execution_count": 1,
   "id": "34d78cdb",
   "metadata": {},
   "outputs": [],
   "source": [
    "# рекурсия для разделения плитки по 1шт, а затем вглубь\n",
    "# не предусмотрено возможное преимущество от мемоизации\n",
    "# для получения такого преимущества необходимо делить пополам, тогда функция с похожим входом \n",
    "# будет появляться часто, что даст положительный эффект\n",
    "\n",
    "def func_split(m, n, n_max, count, split_m = False):\n",
    "    if (m == 0) and (n == 1):\n",
    "        return count\n",
    "    elif m > 1 and not split_m:\n",
    "            m -= 1\n",
    "            split_m = True\n",
    "            count += 1\n",
    "    elif m == 1 and not split_m:\n",
    "            m -= 1\n",
    "            split_m = True\n",
    "    elif n > 1:\n",
    "            n -= 1\n",
    "            count += 1\n",
    "    elif n == 1:\n",
    "        split_m = False\n",
    "        n = n_max\n",
    "    return func_split(m, n, n_max, count, split_m)"
   ]
  },
  {
   "cell_type": "code",
   "execution_count": 2,
   "id": "5bc47ea5",
   "metadata": {},
   "outputs": [],
   "source": [
    "# функция разделения плитки заданного размера, с вычислением минимального количества разломов\n",
    "def min_breaks(m, n):\n",
    "    count = 0\n",
    "    n_max = n\n",
    "    count = func_split(m, n, n_max, count)\n",
    "    return count"
   ]
  },
  {
   "cell_type": "code",
   "execution_count": 3,
   "id": "72ed2132",
   "metadata": {},
   "outputs": [
    {
     "name": "stdout",
     "output_type": "stream",
     "text": [
      "5\n",
      "8\n",
      "0\n"
     ]
    }
   ],
   "source": [
    "print(min_breaks(2, 3)) # Должно вывести 5\n",
    "print(min_breaks(3, 3)) # Должно вывести 8\n",
    "print(min_breaks(1, 1)) # Должно вывести 0"
   ]
  },
  {
   "cell_type": "code",
   "execution_count": null,
   "id": "1f40209f",
   "metadata": {},
   "outputs": [],
   "source": []
  }
 ],
 "metadata": {
  "kernelspec": {
   "display_name": "Python 3 (ipykernel)",
   "language": "python",
   "name": "python3"
  },
  "language_info": {
   "codemirror_mode": {
    "name": "ipython",
    "version": 3
   },
   "file_extension": ".py",
   "mimetype": "text/x-python",
   "name": "python",
   "nbconvert_exporter": "python",
   "pygments_lexer": "ipython3",
   "version": "3.9.12"
  },
  "toc": {
   "base_numbering": 1,
   "nav_menu": {},
   "number_sections": true,
   "sideBar": true,
   "skip_h1_title": false,
   "title_cell": "Table of Contents",
   "title_sidebar": "Contents",
   "toc_cell": false,
   "toc_position": {},
   "toc_section_display": true,
   "toc_window_display": false
  }
 },
 "nbformat": 4,
 "nbformat_minor": 5
}
